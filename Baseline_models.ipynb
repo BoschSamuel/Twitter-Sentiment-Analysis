{
 "cells": [
  {
   "cell_type": "code",
   "execution_count": 1,
   "metadata": {
    "collapsed": false
   },
   "outputs": [
    {
     "name": "stderr",
     "output_type": "stream",
     "text": [
      "Using TensorFlow backend.\n"
     ]
    }
   ],
   "source": [
    "# Import everything\n",
    "import numpy as np\n",
    "from keras import Sequential\n",
    "from keras.layers import Embedding\n",
    "from sklearn.linear_model import LogisticRegression\n",
    "import time\n",
    "from preprocessing_and_loading_data.DataLoader import DataLoader"
   ]
  },
  {
   "cell_type": "code",
   "execution_count": 2,
   "metadata": {
    "collapsed": true
   },
   "outputs": [],
   "source": [
    "def run_baseline(glove_dimension):\n",
    "    print(\"Running model for %d glove dimension...\" % (glove_dimension))\n",
    "    # Read the data using DataLoader object\n",
    "    max_words=40\n",
    "    dl = DataLoader(glove_dimension, max_words, full=True)\n",
    "\n",
    "    X_train, X_test, Y_train, Y_test = dl.get_train_test_split()\n",
    "    embedding_matrix = dl.get_embedding_matrix()\n",
    "    \n",
    "    # Create keras Embedding model, to transform the sequences of words to embedding vectors\n",
    "    model = Sequential()\n",
    "    model.add(Embedding(embedding_matrix.shape[0], embedding_matrix.shape[1], input_length=max_words, \\\n",
    "                             weights=[embedding_matrix], name='emb'))\n",
    "    \n",
    "    # Transforming the words to vectors\n",
    "    X_train_new = model.predict(X_train)\n",
    "    X_test_new = model.predict(X_test)\n",
    "    \n",
    "    # Compute the vector of a tweet as a mean value of the vectors of the words in the tweet\n",
    "    X_train_new = np.mean(X_train_new, axis=1)\n",
    "    X_test_new = np.mean(X_test_new, axis=1)\n",
    "    \n",
    "    start = time.time()\n",
    "    clf = LogisticRegression(random_state=0, solver=\"sag\", n_jobs=-1).fit(X_train_new, Y_train)\n",
    "\n",
    "    end = time.time()\n",
    "    print(\"Model trained in %.2f seconds\" % (end-start))\n",
    "\n",
    "    print(\"Model score: %s\\n\" % (clf.score(X_test_new, Y_test)))"
   ]
  },
  {
   "cell_type": "code",
   "execution_count": 3,
   "metadata": {
    "collapsed": false
   },
   "outputs": [
    {
     "name": "stdout",
     "output_type": "stream",
     "text": [
      "Running model for 25 glove dimension...\n",
      "Model trained in 42.09 seconds\n",
      "Model score: 0.693544\n",
      "\n",
      "Running model for 50 glove dimension...\n",
      "Model trained in 89.13 seconds\n",
      "Model score: 0.728328\n",
      "\n",
      "Running model for 100 glove dimension...\n",
      "Model trained in 80.54 seconds\n",
      "Model score: 0.765684\n",
      "\n",
      "Running model for 200 glove dimension...\n",
      "Model trained in 189.52 seconds\n",
      "Model score: 0.784612\n",
      "\n"
     ]
    }
   ],
   "source": [
    "for gd in [25, 50, 100, 200]:\n",
    "    run_baseline(glove_dimension=gd)"
   ]
  }
 ],
 "metadata": {
  "kernelspec": {
   "display_name": "Python 3",
   "language": "python",
   "name": "python3"
  },
  "language_info": {
   "codemirror_mode": {
    "name": "ipython",
    "version": 3
   },
   "file_extension": ".py",
   "mimetype": "text/x-python",
   "name": "python",
   "nbconvert_exporter": "python",
   "pygments_lexer": "ipython3",
   "version": "3.6.0"
  }
 },
 "nbformat": 4,
 "nbformat_minor": 2
}
